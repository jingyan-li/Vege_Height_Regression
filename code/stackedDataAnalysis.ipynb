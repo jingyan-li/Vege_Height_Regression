{
 "cells": [
  {
   "cell_type": "code",
   "execution_count": 6,
   "id": "6b073ad1",
   "metadata": {},
   "outputs": [],
   "source": [
    "import h5py\n",
    "import numpy as np\n",
    "import matplotlib.pylab as plt"
   ]
  },
  {
   "cell_type": "code",
   "execution_count": 7,
   "id": "d4a520ae",
   "metadata": {},
   "outputs": [
    {
     "data": {
      "text/plain": [
       "<KeysViewHDF5 ['GT', 'INPT_1', 'INPT_2', 'INPT_3', 'INPT_4', 'NIR_1', 'NIR_2', 'NIR_3', 'NIR_4']>"
      ]
     },
     "execution_count": 7,
     "metadata": {},
     "output_type": "execute_result"
    }
   ],
   "source": [
    "dset = h5py.File(\"D:\\II_LAB2_DATA\\stacked_data_train.hdf5\",\"r\")\n",
    "dset.keys()"
   ]
  },
  {
   "cell_type": "code",
   "execution_count": 12,
   "id": "31580e51",
   "metadata": {},
   "outputs": [
    {
     "data": {
      "text/plain": [
       "(10980, 10980)"
      ]
     },
     "execution_count": 12,
     "metadata": {},
     "output_type": "execute_result"
    }
   ],
   "source": [
    "nir = dset[\"NIR_1\"]\n",
    "nir.shape"
   ]
  },
  {
   "cell_type": "code",
   "execution_count": 8,
   "id": "986ca928",
   "metadata": {},
   "outputs": [
    {
     "data": {
      "text/plain": [
       "(4, 10980, 10980)"
      ]
     },
     "execution_count": 8,
     "metadata": {},
     "output_type": "execute_result"
    }
   ],
   "source": [
    "gt = dset[\"GT\"]\n",
    "gt.shape"
   ]
  },
  {
   "cell_type": "code",
   "execution_count": 14,
   "id": "22344caf",
   "metadata": {},
   "outputs": [
    {
     "data": {
      "text/plain": [
       "(1, 10980)"
      ]
     },
     "execution_count": 14,
     "metadata": {},
     "output_type": "execute_result"
    }
   ],
   "source": [
    "NIR =  nir[np.where(nir!=-1)]\n",
    "NIR.shape"
   ]
  },
  {
   "cell_type": "code",
   "execution_count": 5,
   "id": "2ca933e0",
   "metadata": {},
   "outputs": [
    {
     "data": {
      "text/plain": [
       "array([1, 0, 2])"
      ]
     },
     "execution_count": 5,
     "metadata": {},
     "output_type": "execute_result"
    }
   ],
   "source": [
    "a = np.array([[-1,-1,1],\n",
    "              [-1,0,2]])\n",
    "b = np.array([[1,2,3],\n",
    "              [4,5,6]])\n",
    "x =a[np.where(a!=-1)]\n",
    "x"
   ]
  },
  {
   "cell_type": "code",
   "execution_count": null,
   "id": "b957b4bb",
   "metadata": {},
   "outputs": [],
   "source": []
  }
 ],
 "metadata": {
  "kernelspec": {
   "display_name": "Python 3",
   "language": "python",
   "name": "python3"
  },
  "language_info": {
   "codemirror_mode": {
    "name": "ipython",
    "version": 3
   },
   "file_extension": ".py",
   "mimetype": "text/x-python",
   "name": "python",
   "nbconvert_exporter": "python",
   "pygments_lexer": "ipython3",
   "version": "3.8.8"
  }
 },
 "nbformat": 4,
 "nbformat_minor": 5
}
